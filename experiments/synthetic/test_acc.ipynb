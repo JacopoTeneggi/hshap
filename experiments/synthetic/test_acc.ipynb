{
 "cells": [
  {
   "cell_type": "code",
   "execution_count": 1,
   "metadata": {},
   "outputs": [
    {
     "name": "stdout",
     "output_type": "stream",
     "text": [
      "Found 2700 test images\n",
      "{'1': [], '2': [], '3': [], '4': [], '5': [], '6': [], '7': [], '8': [], '9': []}\n",
      "1 298\n",
      "2 300\n",
      "3 300\n",
      "4 300\n",
      "5 300\n",
      "6 300\n",
      "7 300\n",
      "8 300\n",
      "9 300\n",
      "Test accuracy: 1.00\n",
      "Saved true positives\n"
     ]
    }
   ],
   "source": [
    "import numpy as np\n",
    "import torch\n",
    "import torch.nn as nn\n",
    "from torchvision import datasets, models, transforms\n",
    "import scipy\n",
    "import os\n",
    "import pandas as pd\n",
    "from hshap.utils import Net\n",
    "\n",
    "os.environ[\"CUDA_VISIBLE_DEVICES\"]=\"8\"\n",
    "\n",
    "device = torch.device(\"cuda:0\")\n",
    "\n",
    "torch.manual_seed(0)\n",
    "model = Net()\n",
    "weight_path = \"model2.pth\"\n",
    "model.load_state_dict(torch.load(weight_path, map_location=device)) \n",
    "model.to(device)\n",
    "model.eval()\n",
    "\n",
    "transform = transforms.Compose([\n",
    "    transforms.ToTensor(),\n",
    "    transforms.Normalize([0.5, 0.5, 0.5], [0.5, 0.5, 0.5])\n",
    "])\n",
    "\n",
    "data_dir = \"/export/gaon1/data/jteneggi/data/synthetic/LOR\"\n",
    "dataset = datasets.ImageFolder(os.path.join(data_dir, \"images\"), transform)\n",
    "image_names = [os.path.basename(sample[0]) for sample in dataset.samples]\n",
    "L = len(image_names)\n",
    "print(\"Found %d test images\" % L)\n",
    "true_positives = {}\n",
    "classes = np.arange(0, 9) + 1\n",
    "for c in classes:\n",
    "    true_positives[str(c)] = []\n",
    "print(true_positives)\n",
    "false_negatives = []\n",
    "dataloader = torch.utils.data.DataLoader(dataset, batch_size=4, num_workers=0)\n",
    "for batch_id, (images, labels) in enumerate(dataloader):\n",
    "    images = images.to(device)\n",
    "    labels = labels.to(device)\n",
    "    outputs = model(images)\n",
    "    _, preds = torch.max(outputs, 1)\n",
    "    \n",
    "    np_labels = labels.cpu().numpy()\n",
    "    np_preds = preds.detach().cpu().numpy()\n",
    "    \n",
    "    for i, label in enumerate(np_labels):\n",
    "        image_id = batch_id * 4 + i\n",
    "        image_name = image_names[image_id]\n",
    "        crosses_count = classes[label]\n",
    "        image = os.path.join(data_dir, \"images/{}/{}\".format(crosses_count, image_name))\n",
    "        if np_preds[i] == 1:\n",
    "            true_positives[str(crosses_count)].append(image)\n",
    "        if np_preds[i] == 0:\n",
    "            false_negatives.append(image)\n",
    "\n",
    "correct = 0\n",
    "wrong = 0\n",
    "for c in true_positives:\n",
    "    print(c, len(true_positives[c]))\n",
    "    correct += len(true_positives[c])\n",
    "wrong += len(false_negatives)\n",
    "accuracy = correct/(correct+wrong)\n",
    "print(\"Test accuracy: %.2f\" % accuracy)\n",
    "np.savez(\"true_positives\", true_positives)\n",
    "print(\"Saved true positives\")"
   ]
  },
  {
   "cell_type": "code",
   "execution_count": 2,
   "metadata": {},
   "outputs": [
    {
     "name": "stdout",
     "output_type": "stream",
     "text": [
      "1 298\n",
      "2 300\n",
      "3 300\n",
      "4 300\n",
      "5 300\n",
      "6 300\n",
      "7 300\n",
      "8 300\n",
      "9 300\n",
      "0.9992592592592593 2700\n"
     ]
    }
   ],
   "source": [
    "correct = 0\n",
    "wrong = 0\n",
    "for c in true_positives:\n",
    "    print(c, len(true_positives[c]))\n",
    "    correct += len(true_positives[c])\n",
    "wrong += len(false_negatives)\n",
    "print(correct/(correct+wrong), correct+wrong)"
   ]
  },
  {
   "cell_type": "code",
   "execution_count": null,
   "metadata": {},
   "outputs": [],
   "source": []
  }
 ],
 "metadata": {
  "kernelspec": {
   "display_name": "Python 3",
   "language": "python",
   "name": "python3"
  },
  "language_info": {
   "codemirror_mode": {
    "name": "ipython",
    "version": 3
   },
   "file_extension": ".py",
   "mimetype": "text/x-python",
   "name": "python",
   "nbconvert_exporter": "python",
   "pygments_lexer": "ipython3",
   "version": "3.8.5"
  }
 },
 "nbformat": 4,
 "nbformat_minor": 4
}
